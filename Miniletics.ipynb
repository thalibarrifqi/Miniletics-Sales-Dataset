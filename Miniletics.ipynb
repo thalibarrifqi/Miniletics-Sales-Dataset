{
 "cells": [
  {
   "cell_type": "code",
   "execution_count": 1,
   "id": "9e1086d6",
   "metadata": {},
   "outputs": [],
   "source": [
    "import pandas as pd\n",
    "import numpy as np\n",
    "import matplotlib.pyplot as plt\n",
    "import seaborn as sns"
   ]
  },
  {
   "cell_type": "markdown",
   "id": "f77052bf",
   "metadata": {},
   "source": [
    "**Import Dataset**"
   ]
  },
  {
   "cell_type": "code",
   "execution_count": 2,
   "id": "8d433c64",
   "metadata": {
    "scrolled": true
   },
   "outputs": [],
   "source": [
    "shopee_march = pd.read_excel('Shopee_March_Order.xlsx')"
   ]
  },
  {
   "cell_type": "code",
   "execution_count": 3,
   "id": "6e56eb3d",
   "metadata": {},
   "outputs": [],
   "source": [
    "shopee_april = pd.read_excel('Shopee_April_Order.xlsx')"
   ]
  },
  {
   "cell_type": "code",
   "execution_count": 4,
   "id": "49bbd64b",
   "metadata": {},
   "outputs": [],
   "source": [
    "tokopedia_march = pd.read_excel('Tokopedia_March_Order.xlsx')"
   ]
  },
  {
   "cell_type": "code",
   "execution_count": 5,
   "id": "ead6fa77",
   "metadata": {},
   "outputs": [],
   "source": [
    "tokopedia_april = pd.read_excel('Tokopedia_April_Order.xlsx')"
   ]
  },
  {
   "cell_type": "markdown",
   "id": "67b00b72",
   "metadata": {},
   "source": [
    "**Merging The Same Marketplace**"
   ]
  },
  {
   "cell_type": "code",
   "execution_count": 6,
   "id": "577e3fad",
   "metadata": {},
   "outputs": [],
   "source": [
    "shopee = pd.concat([shopee_march, shopee_april], axis=0)\n",
    "shopee = shopee.reset_index(drop=True)\n",
    "shopee['Marketplace'] = \"Shopee\""
   ]
  },
  {
   "cell_type": "code",
   "execution_count": 7,
   "id": "7c5d0a3d",
   "metadata": {},
   "outputs": [
    {
     "data": {
      "text/html": [
       "<div>\n",
       "<style scoped>\n",
       "    .dataframe tbody tr th:only-of-type {\n",
       "        vertical-align: middle;\n",
       "    }\n",
       "\n",
       "    .dataframe tbody tr th {\n",
       "        vertical-align: top;\n",
       "    }\n",
       "\n",
       "    .dataframe thead th {\n",
       "        text-align: right;\n",
       "    }\n",
       "</style>\n",
       "<table border=\"1\" class=\"dataframe\">\n",
       "  <thead>\n",
       "    <tr style=\"text-align: right;\">\n",
       "      <th></th>\n",
       "      <th>No. Pesanan</th>\n",
       "      <th>Status Pesanan</th>\n",
       "      <th>Status Pembatalan/ Pengembalian</th>\n",
       "      <th>No. Resi</th>\n",
       "      <th>Opsi Pengiriman</th>\n",
       "      <th>Antar ke counter/ pick-up</th>\n",
       "      <th>Pesanan Harus Dikirimkan Sebelum (Menghindari keterlambatan)</th>\n",
       "      <th>Waktu Pengiriman Diatur</th>\n",
       "      <th>Waktu Pesanan Dibuat</th>\n",
       "      <th>Waktu Pembayaran Dilakukan</th>\n",
       "      <th>...</th>\n",
       "      <th>Potongan Koin Shopee</th>\n",
       "      <th>Diskon Kartu Kredit</th>\n",
       "      <th>Ongkos Kirim Dibayar oleh Pembeli</th>\n",
       "      <th>Total Pembayaran</th>\n",
       "      <th>Perkiraan Ongkos Kirim</th>\n",
       "      <th>Catatan dari Pembeli</th>\n",
       "      <th>Catatan</th>\n",
       "      <th>city</th>\n",
       "      <th>user_id</th>\n",
       "      <th>Marketplace</th>\n",
       "    </tr>\n",
       "  </thead>\n",
       "  <tbody>\n",
       "    <tr>\n",
       "      <th>0</th>\n",
       "      <td>2103017PUH1WMN</td>\n",
       "      <td>Selesai</td>\n",
       "      <td>NaN</td>\n",
       "      <td>JP1737075560</td>\n",
       "      <td>J&amp;T Express</td>\n",
       "      <td>Pickup</td>\n",
       "      <td>2021-03-03 09:31</td>\n",
       "      <td>2021-03-01 17:36</td>\n",
       "      <td>2021-03-01 09:31</td>\n",
       "      <td>2021-03-01 09:31</td>\n",
       "      <td>...</td>\n",
       "      <td>0</td>\n",
       "      <td>Rp 0.0</td>\n",
       "      <td>Rp 0.0</td>\n",
       "      <td>Rp 174500.0</td>\n",
       "      <td>Rp 10000.0</td>\n",
       "      <td>NaN</td>\n",
       "      <td>NaN</td>\n",
       "      <td>Tangerang Selatan</td>\n",
       "      <td>51</td>\n",
       "      <td>Shopee</td>\n",
       "    </tr>\n",
       "    <tr>\n",
       "      <th>1</th>\n",
       "      <td>210302AX6RYQ4M</td>\n",
       "      <td>Selesai</td>\n",
       "      <td>NaN</td>\n",
       "      <td>002504001154</td>\n",
       "      <td>SiCepat REG</td>\n",
       "      <td>Pickup</td>\n",
       "      <td>2021-03-04 16:20</td>\n",
       "      <td>2021-03-03 14:40</td>\n",
       "      <td>2021-03-02 16:20</td>\n",
       "      <td>2021-03-02 16:20</td>\n",
       "      <td>...</td>\n",
       "      <td>6437</td>\n",
       "      <td>Rp 0.0</td>\n",
       "      <td>Rp 7000.0</td>\n",
       "      <td>Rp 253280.0</td>\n",
       "      <td>Rp 7000.0</td>\n",
       "      <td>NaN</td>\n",
       "      <td>NaN</td>\n",
       "      <td>Bogor</td>\n",
       "      <td>49</td>\n",
       "      <td>Shopee</td>\n",
       "    </tr>\n",
       "    <tr>\n",
       "      <th>2</th>\n",
       "      <td>210306K5X0XM90</td>\n",
       "      <td>Selesai</td>\n",
       "      <td>NaN</td>\n",
       "      <td>IN-2-0IUPCRH3H1SSIS5R8P15</td>\n",
       "      <td>GrabExpress Instant</td>\n",
       "      <td>Pickup</td>\n",
       "      <td>2021-03-08 23:30</td>\n",
       "      <td>2021-03-06 09:41</td>\n",
       "      <td>2021-03-05 23:00</td>\n",
       "      <td>2021-03-05 23:01</td>\n",
       "      <td>...</td>\n",
       "      <td>0</td>\n",
       "      <td>Rp 0.0</td>\n",
       "      <td>Rp 6000.0</td>\n",
       "      <td>Rp 769500.0</td>\n",
       "      <td>Rp 6000.0</td>\n",
       "      <td>NaN</td>\n",
       "      <td>NaN</td>\n",
       "      <td>Surabaya</td>\n",
       "      <td>106</td>\n",
       "      <td>Shopee</td>\n",
       "    </tr>\n",
       "    <tr>\n",
       "      <th>3</th>\n",
       "      <td>210306K5X0XM90</td>\n",
       "      <td>Selesai</td>\n",
       "      <td>NaN</td>\n",
       "      <td>IN-2-0IUPCRH3H1SSIS5R8P15</td>\n",
       "      <td>GrabExpress Instant</td>\n",
       "      <td>Pickup</td>\n",
       "      <td>2021-03-08 23:30</td>\n",
       "      <td>2021-03-06 09:41</td>\n",
       "      <td>2021-03-05 23:00</td>\n",
       "      <td>2021-03-05 23:01</td>\n",
       "      <td>...</td>\n",
       "      <td>0</td>\n",
       "      <td>Rp 0.0</td>\n",
       "      <td>Rp 6000.0</td>\n",
       "      <td>Rp 769500.0</td>\n",
       "      <td>Rp 6000.0</td>\n",
       "      <td>NaN</td>\n",
       "      <td>NaN</td>\n",
       "      <td>Surabaya</td>\n",
       "      <td>106</td>\n",
       "      <td>Shopee</td>\n",
       "    </tr>\n",
       "    <tr>\n",
       "      <th>4</th>\n",
       "      <td>210306K5X0XM90</td>\n",
       "      <td>Selesai</td>\n",
       "      <td>NaN</td>\n",
       "      <td>IN-2-0IUPCRH3H1SSIS5R8P15</td>\n",
       "      <td>GrabExpress Instant</td>\n",
       "      <td>Pickup</td>\n",
       "      <td>2021-03-08 23:30</td>\n",
       "      <td>2021-03-06 09:41</td>\n",
       "      <td>2021-03-05 23:00</td>\n",
       "      <td>2021-03-05 23:01</td>\n",
       "      <td>...</td>\n",
       "      <td>0</td>\n",
       "      <td>Rp 0.0</td>\n",
       "      <td>Rp 6000.0</td>\n",
       "      <td>Rp 769500.0</td>\n",
       "      <td>Rp 6000.0</td>\n",
       "      <td>NaN</td>\n",
       "      <td>NaN</td>\n",
       "      <td>Surabaya</td>\n",
       "      <td>106</td>\n",
       "      <td>Shopee</td>\n",
       "    </tr>\n",
       "  </tbody>\n",
       "</table>\n",
       "<p>5 rows × 40 columns</p>\n",
       "</div>"
      ],
      "text/plain": [
       "      No. Pesanan Status Pesanan Status Pembatalan/ Pengembalian  \\\n",
       "0  2103017PUH1WMN        Selesai                             NaN   \n",
       "1  210302AX6RYQ4M        Selesai                             NaN   \n",
       "2  210306K5X0XM90        Selesai                             NaN   \n",
       "3  210306K5X0XM90        Selesai                             NaN   \n",
       "4  210306K5X0XM90        Selesai                             NaN   \n",
       "\n",
       "                    No. Resi      Opsi Pengiriman Antar ke counter/ pick-up  \\\n",
       "0               JP1737075560          J&T Express                    Pickup   \n",
       "1               002504001154          SiCepat REG                    Pickup   \n",
       "2  IN-2-0IUPCRH3H1SSIS5R8P15  GrabExpress Instant                    Pickup   \n",
       "3  IN-2-0IUPCRH3H1SSIS5R8P15  GrabExpress Instant                    Pickup   \n",
       "4  IN-2-0IUPCRH3H1SSIS5R8P15  GrabExpress Instant                    Pickup   \n",
       "\n",
       "  Pesanan Harus Dikirimkan Sebelum (Menghindari keterlambatan)  \\\n",
       "0                                   2021-03-03 09:31             \n",
       "1                                   2021-03-04 16:20             \n",
       "2                                   2021-03-08 23:30             \n",
       "3                                   2021-03-08 23:30             \n",
       "4                                   2021-03-08 23:30             \n",
       "\n",
       "  Waktu Pengiriman Diatur Waktu Pesanan Dibuat Waktu Pembayaran Dilakukan  \\\n",
       "0        2021-03-01 17:36     2021-03-01 09:31           2021-03-01 09:31   \n",
       "1        2021-03-03 14:40     2021-03-02 16:20           2021-03-02 16:20   \n",
       "2        2021-03-06 09:41     2021-03-05 23:00           2021-03-05 23:01   \n",
       "3        2021-03-06 09:41     2021-03-05 23:00           2021-03-05 23:01   \n",
       "4        2021-03-06 09:41     2021-03-05 23:00           2021-03-05 23:01   \n",
       "\n",
       "   ...  Potongan Koin Shopee Diskon Kartu Kredit  \\\n",
       "0  ...                     0              Rp 0.0   \n",
       "1  ...                  6437              Rp 0.0   \n",
       "2  ...                     0              Rp 0.0   \n",
       "3  ...                     0              Rp 0.0   \n",
       "4  ...                     0              Rp 0.0   \n",
       "\n",
       "  Ongkos Kirim Dibayar oleh Pembeli Total Pembayaran Perkiraan Ongkos Kirim  \\\n",
       "0                            Rp 0.0      Rp 174500.0             Rp 10000.0   \n",
       "1                         Rp 7000.0      Rp 253280.0              Rp 7000.0   \n",
       "2                         Rp 6000.0      Rp 769500.0              Rp 6000.0   \n",
       "3                         Rp 6000.0      Rp 769500.0              Rp 6000.0   \n",
       "4                         Rp 6000.0      Rp 769500.0              Rp 6000.0   \n",
       "\n",
       "  Catatan dari Pembeli  Catatan               city user_id Marketplace  \n",
       "0                  NaN      NaN  Tangerang Selatan      51      Shopee  \n",
       "1                  NaN      NaN              Bogor      49      Shopee  \n",
       "2                  NaN      NaN           Surabaya     106      Shopee  \n",
       "3                  NaN      NaN           Surabaya     106      Shopee  \n",
       "4                  NaN      NaN           Surabaya     106      Shopee  \n",
       "\n",
       "[5 rows x 40 columns]"
      ]
     },
     "execution_count": 7,
     "metadata": {},
     "output_type": "execute_result"
    }
   ],
   "source": [
    "shopee.head()"
   ]
  },
  {
   "cell_type": "code",
   "execution_count": 8,
   "id": "903f729a",
   "metadata": {},
   "outputs": [],
   "source": [
    "tokopedia = pd.concat([tokopedia_march, tokopedia_april], axis=0)\n",
    "tokopedia = tokopedia.reset_index(drop=True)\n",
    "tokopedia['Marketplace'] = \"Tokopedia\""
   ]
  },
  {
   "cell_type": "code",
   "execution_count": 9,
   "id": "29df4e77",
   "metadata": {},
   "outputs": [
    {
     "data": {
      "text/html": [
       "<div>\n",
       "<style scoped>\n",
       "    .dataframe tbody tr th:only-of-type {\n",
       "        vertical-align: middle;\n",
       "    }\n",
       "\n",
       "    .dataframe tbody tr th {\n",
       "        vertical-align: top;\n",
       "    }\n",
       "\n",
       "    .dataframe thead th {\n",
       "        text-align: right;\n",
       "    }\n",
       "</style>\n",
       "<table border=\"1\" class=\"dataframe\">\n",
       "  <thead>\n",
       "    <tr style=\"text-align: right;\">\n",
       "      <th></th>\n",
       "      <th>Count</th>\n",
       "      <th>Order ID</th>\n",
       "      <th>Invoice</th>\n",
       "      <th>Payment Date</th>\n",
       "      <th>Order Status</th>\n",
       "      <th>Product ID</th>\n",
       "      <th>Product Name</th>\n",
       "      <th>Quantity</th>\n",
       "      <th>Stock Keeping Unit (SKU)</th>\n",
       "      <th>Notes</th>\n",
       "      <th>...</th>\n",
       "      <th>Total Shipping Fee (Rp.)</th>\n",
       "      <th>Total Amount (Rp.)</th>\n",
       "      <th>AWB</th>\n",
       "      <th>Jenis Layanan</th>\n",
       "      <th>Bebas Ongkir</th>\n",
       "      <th>Warehouse Origin</th>\n",
       "      <th>Campaign Name</th>\n",
       "      <th>city</th>\n",
       "      <th>user_id</th>\n",
       "      <th>Marketplace</th>\n",
       "    </tr>\n",
       "  </thead>\n",
       "  <tbody>\n",
       "    <tr>\n",
       "      <th>0</th>\n",
       "      <td>1.0</td>\n",
       "      <td>724560760</td>\n",
       "      <td>INV/20210301/XXI/III/766121726</td>\n",
       "      <td>01-03-2021 07:53:11</td>\n",
       "      <td>Transaksi selesai..\\nDana akan diteruskan ke p...</td>\n",
       "      <td>980008156</td>\n",
       "      <td>miniletics Tank Top Olahraga Wanita Cross Limi...</td>\n",
       "      <td>1</td>\n",
       "      <td>CLT_Black_S</td>\n",
       "      <td>NaN</td>\n",
       "      <td>...</td>\n",
       "      <td>12500</td>\n",
       "      <td>2593500</td>\n",
       "      <td>IN-2-0IUPBBUNJSIWHKRC8T44</td>\n",
       "      <td>Same Day</td>\n",
       "      <td>No</td>\n",
       "      <td>Shop Location</td>\n",
       "      <td>-</td>\n",
       "      <td>Kupang</td>\n",
       "      <td>140</td>\n",
       "      <td>Tokopedia</td>\n",
       "    </tr>\n",
       "    <tr>\n",
       "      <th>1</th>\n",
       "      <td>NaN</td>\n",
       "      <td>724560760</td>\n",
       "      <td>INV/20210301/XXI/III/766121726</td>\n",
       "      <td>01-03-2021 07:53:11</td>\n",
       "      <td>Transaksi selesai..\\nDana akan diteruskan ke p...</td>\n",
       "      <td>1046893982</td>\n",
       "      <td>miniletics Tank Top Olahraga Wanita ClariTy Ta...</td>\n",
       "      <td>1</td>\n",
       "      <td>CT_LightPurple_S</td>\n",
       "      <td>NaN</td>\n",
       "      <td>...</td>\n",
       "      <td>12500</td>\n",
       "      <td>2593500</td>\n",
       "      <td>IN-2-0IUPBBUNJSIWHKRC8T44</td>\n",
       "      <td>Same Day</td>\n",
       "      <td>No</td>\n",
       "      <td>Shop Location</td>\n",
       "      <td>-</td>\n",
       "      <td>Kupang</td>\n",
       "      <td>140</td>\n",
       "      <td>Tokopedia</td>\n",
       "    </tr>\n",
       "    <tr>\n",
       "      <th>2</th>\n",
       "      <td>NaN</td>\n",
       "      <td>724560760</td>\n",
       "      <td>INV/20210301/XXI/III/766121726</td>\n",
       "      <td>01-03-2021 07:53:11</td>\n",
       "      <td>Transaksi selesai..\\nDana akan diteruskan ke p...</td>\n",
       "      <td>1138628370</td>\n",
       "      <td>miniletics Legging Olahraga Wanita Motion Legg...</td>\n",
       "      <td>1</td>\n",
       "      <td>MOL34_Maroon_S</td>\n",
       "      <td>NaN</td>\n",
       "      <td>...</td>\n",
       "      <td>12500</td>\n",
       "      <td>2593500</td>\n",
       "      <td>IN-2-0IUPBBUNJSIWHKRC8T44</td>\n",
       "      <td>Same Day</td>\n",
       "      <td>No</td>\n",
       "      <td>Shop Location</td>\n",
       "      <td>-</td>\n",
       "      <td>Kupang</td>\n",
       "      <td>140</td>\n",
       "      <td>Tokopedia</td>\n",
       "    </tr>\n",
       "    <tr>\n",
       "      <th>3</th>\n",
       "      <td>NaN</td>\n",
       "      <td>724560760</td>\n",
       "      <td>INV/20210301/XXI/III/766121726</td>\n",
       "      <td>01-03-2021 07:53:11</td>\n",
       "      <td>Transaksi selesai..\\nDana akan diteruskan ke p...</td>\n",
       "      <td>1046900478</td>\n",
       "      <td>miniletics Baju Olahraga Wanita Tank Top Tie I...</td>\n",
       "      <td>1</td>\n",
       "      <td>TST_SoftPink_S</td>\n",
       "      <td>NaN</td>\n",
       "      <td>...</td>\n",
       "      <td>12500</td>\n",
       "      <td>2593500</td>\n",
       "      <td>IN-2-0IUPBBUNJSIWHKRC8T44</td>\n",
       "      <td>Same Day</td>\n",
       "      <td>No</td>\n",
       "      <td>Shop Location</td>\n",
       "      <td>-</td>\n",
       "      <td>Kupang</td>\n",
       "      <td>140</td>\n",
       "      <td>Tokopedia</td>\n",
       "    </tr>\n",
       "    <tr>\n",
       "      <th>4</th>\n",
       "      <td>NaN</td>\n",
       "      <td>724560760</td>\n",
       "      <td>INV/20210301/XXI/III/766121726</td>\n",
       "      <td>01-03-2021 07:53:11</td>\n",
       "      <td>Transaksi selesai..\\nDana akan diteruskan ke p...</td>\n",
       "      <td>1237450796</td>\n",
       "      <td>miniletics Celana Olahraga Wanita Motion Short...</td>\n",
       "      <td>1</td>\n",
       "      <td>MOLShorts_BrickRed_S</td>\n",
       "      <td>NaN</td>\n",
       "      <td>...</td>\n",
       "      <td>12500</td>\n",
       "      <td>2593500</td>\n",
       "      <td>IN-2-0IUPBBUNJSIWHKRC8T44</td>\n",
       "      <td>Same Day</td>\n",
       "      <td>No</td>\n",
       "      <td>Shop Location</td>\n",
       "      <td>-</td>\n",
       "      <td>Kupang</td>\n",
       "      <td>140</td>\n",
       "      <td>Tokopedia</td>\n",
       "    </tr>\n",
       "  </tbody>\n",
       "</table>\n",
       "<p>5 rows × 26 columns</p>\n",
       "</div>"
      ],
      "text/plain": [
       "   Count   Order ID                         Invoice         Payment Date  \\\n",
       "0    1.0  724560760  INV/20210301/XXI/III/766121726  01-03-2021 07:53:11   \n",
       "1    NaN  724560760  INV/20210301/XXI/III/766121726  01-03-2021 07:53:11   \n",
       "2    NaN  724560760  INV/20210301/XXI/III/766121726  01-03-2021 07:53:11   \n",
       "3    NaN  724560760  INV/20210301/XXI/III/766121726  01-03-2021 07:53:11   \n",
       "4    NaN  724560760  INV/20210301/XXI/III/766121726  01-03-2021 07:53:11   \n",
       "\n",
       "                                        Order Status  Product ID  \\\n",
       "0  Transaksi selesai..\\nDana akan diteruskan ke p...   980008156   \n",
       "1  Transaksi selesai..\\nDana akan diteruskan ke p...  1046893982   \n",
       "2  Transaksi selesai..\\nDana akan diteruskan ke p...  1138628370   \n",
       "3  Transaksi selesai..\\nDana akan diteruskan ke p...  1046900478   \n",
       "4  Transaksi selesai..\\nDana akan diteruskan ke p...  1237450796   \n",
       "\n",
       "                                        Product Name  Quantity  \\\n",
       "0  miniletics Tank Top Olahraga Wanita Cross Limi...         1   \n",
       "1  miniletics Tank Top Olahraga Wanita ClariTy Ta...         1   \n",
       "2  miniletics Legging Olahraga Wanita Motion Legg...         1   \n",
       "3  miniletics Baju Olahraga Wanita Tank Top Tie I...         1   \n",
       "4  miniletics Celana Olahraga Wanita Motion Short...         1   \n",
       "\n",
       "  Stock Keeping Unit (SKU) Notes  ...  Total Shipping Fee (Rp.)  \\\n",
       "0              CLT_Black_S   NaN  ...                     12500   \n",
       "1         CT_LightPurple_S   NaN  ...                     12500   \n",
       "2           MOL34_Maroon_S   NaN  ...                     12500   \n",
       "3           TST_SoftPink_S   NaN  ...                     12500   \n",
       "4     MOLShorts_BrickRed_S   NaN  ...                     12500   \n",
       "\n",
       "   Total Amount (Rp.)                        AWB Jenis Layanan  Bebas Ongkir  \\\n",
       "0             2593500  IN-2-0IUPBBUNJSIWHKRC8T44      Same Day            No   \n",
       "1             2593500  IN-2-0IUPBBUNJSIWHKRC8T44      Same Day            No   \n",
       "2             2593500  IN-2-0IUPBBUNJSIWHKRC8T44      Same Day            No   \n",
       "3             2593500  IN-2-0IUPBBUNJSIWHKRC8T44      Same Day            No   \n",
       "4             2593500  IN-2-0IUPBBUNJSIWHKRC8T44      Same Day            No   \n",
       "\n",
       "   Warehouse Origin  Campaign Name    city user_id Marketplace  \n",
       "0     Shop Location              -  Kupang     140   Tokopedia  \n",
       "1     Shop Location              -  Kupang     140   Tokopedia  \n",
       "2     Shop Location              -  Kupang     140   Tokopedia  \n",
       "3     Shop Location              -  Kupang     140   Tokopedia  \n",
       "4     Shop Location              -  Kupang     140   Tokopedia  \n",
       "\n",
       "[5 rows x 26 columns]"
      ]
     },
     "execution_count": 9,
     "metadata": {},
     "output_type": "execute_result"
    }
   ],
   "source": [
    "tokopedia.head()"
   ]
  },
  {
   "cell_type": "markdown",
   "id": "11d3a203",
   "metadata": {},
   "source": [
    "# **Data Cleaning**"
   ]
  },
  {
   "cell_type": "markdown",
   "id": "fd556a9f",
   "metadata": {},
   "source": [
    "**Removing columns**"
   ]
  },
  {
   "cell_type": "markdown",
   "id": "996be9a9",
   "metadata": {},
   "source": [
    "# **Tokopedia dataframe**"
   ]
  },
  {
   "cell_type": "code",
   "execution_count": 10,
   "id": "a555fad6",
   "metadata": {},
   "outputs": [
    {
     "data": {
      "text/plain": [
       "Index(['Count', 'Order ID', 'Invoice', 'Payment Date', 'Order Status',\n",
       "       'Product ID', 'Product Name', 'Quantity', 'Stock Keeping Unit (SKU)',\n",
       "       'Notes', 'Price (Rp.)', 'Discount Amount (Rp.)', 'Subsidi Amount (Rp.)',\n",
       "       'Courier', 'Shipping Price + fee (Rp.)', 'Insurance (Rp.)',\n",
       "       'Total Shipping Fee (Rp.)', 'Total Amount (Rp.)', 'AWB',\n",
       "       'Jenis Layanan', 'Bebas Ongkir', 'Warehouse Origin', 'Campaign Name',\n",
       "       'city', 'user_id', 'Marketplace'],\n",
       "      dtype='object')"
      ]
     },
     "execution_count": 10,
     "metadata": {},
     "output_type": "execute_result"
    }
   ],
   "source": [
    "tokopedia.columns"
   ]
  },
  {
   "cell_type": "markdown",
   "id": "967df9ab",
   "metadata": {},
   "source": [
    "**Remove unnecessary column**"
   ]
  },
  {
   "cell_type": "code",
   "execution_count": 11,
   "id": "6e3b17ef",
   "metadata": {},
   "outputs": [],
   "source": [
    "tokopedia = tokopedia.drop(['Count', 'Product ID', 'Invoice', 'Notes', 'AWB',\n",
    "                            'Jenis Layanan', 'Warehouse Origin', 'Campaign Name', 'Bebas Ongkir'], axis=1)"
   ]
  },
  {
   "cell_type": "markdown",
   "id": "ba77677c",
   "metadata": {},
   "source": [
    "**Edit Order Status, Quantity, Courier, and user_id**"
   ]
  },
  {
   "cell_type": "code",
   "execution_count": 12,
   "id": "9d4062ab",
   "metadata": {},
   "outputs": [],
   "source": [
    "order_status = ['selesai', 'dibatalkan', 'ditolak', 'tujuan', 'dikirim']\n",
    "tokopedia['Order ID'] = tokopedia['Order ID'].apply(lambda x: str(int(x)))\n",
    "tokopedia['Order Status'] = tokopedia['Order Status'].apply(lambda x: x.replace(\".\", \" \"))\n",
    "tokopedia['Order Status'] = tokopedia['Order Status'].apply(lambda x: ','.join(set(x.split()).intersection(order_status)))\n",
    "tokopedia['Quantity'] = tokopedia['Quantity'].apply(lambda x: int(x))\n",
    "tokopedia['user_id'] = tokopedia['user_id'].apply(lambda x: str(int(x)))\n",
    "tokopedia['Courier'] = tokopedia['Courier'].apply(lambda x: x.split('(')[0])"
   ]
  },
  {
   "cell_type": "markdown",
   "id": "d7576985",
   "metadata": {},
   "source": [
    "**Format Date**"
   ]
  },
  {
   "cell_type": "code",
   "execution_count": 13,
   "id": "7207d322",
   "metadata": {},
   "outputs": [],
   "source": [
    "def date_format(x):\n",
    "    day = x.split('-')[0]\n",
    "    tmp = day\n",
    "    my = x.split('-')[1]\n",
    "    my.replace('2021', day)\n",
    "    day = '2021'\n",
    "    return day+'-'+my+'-'+tmp"
   ]
  },
  {
   "cell_type": "code",
   "execution_count": 14,
   "id": "be639733",
   "metadata": {},
   "outputs": [],
   "source": [
    "tokopedia['Payment Hours'] = tokopedia['Payment Date'].apply(lambda x: x.split(' ')[1])\n",
    "tokopedia['Payment Date'] = tokopedia['Payment Date'].apply(lambda x: x.split(' ')[0])\n",
    "tokopedia['Payment Date'] = tokopedia['Payment Date'].apply(lambda x: date_format(x))"
   ]
  },
  {
   "cell_type": "code",
   "execution_count": 15,
   "id": "0b0ba5de",
   "metadata": {},
   "outputs": [],
   "source": [
    "def headband(x):\n",
    "    if \"Headband\" in x:\n",
    "        return x+\",Headband\"\n",
    "    else:\n",
    "        return x"
   ]
  },
  {
   "cell_type": "code",
   "execution_count": 16,
   "id": "eacfdec6",
   "metadata": {},
   "outputs": [],
   "source": [
    "tokopedia['Product Name'] = tokopedia['Product Name'].apply(lambda x: headband(x))"
   ]
  },
  {
   "cell_type": "code",
   "execution_count": 17,
   "id": "1c13b7f4",
   "metadata": {},
   "outputs": [],
   "source": [
    "tokopedia.columns = ['Order ID', 'Payment Date', 'Order Status', 'Product Name', 'Quantity', \n",
    "                     'Stock Keeping Unit (SKU)', 'Price (Rp.)', 'Discount Amount (Rp.)', \n",
    "                     'Subsidi Amount (Rp.)', 'Courier', 'Shipping Price + fee (Rp.)', 'Insurance (Rp.)',\n",
    "                     'Total Shipping Fee (Rp.)', 'Total Amount (Rp.)',\n",
    "                     'city', 'user_id', 'Marketplace', 'Payment Hours']"
   ]
  },
  {
   "cell_type": "markdown",
   "id": "46da862a",
   "metadata": {},
   "source": [
    "**Add new column for Variation Name**"
   ]
  },
  {
   "cell_type": "code",
   "execution_count": 18,
   "id": "37d692b3",
   "metadata": {},
   "outputs": [],
   "source": [
    "tokopedia['Variation Name'] = tokopedia['Product Name'].apply(lambda x: x[::-1].split('-')[0])"
   ]
  },
  {
   "cell_type": "code",
   "execution_count": 19,
   "id": "92451953",
   "metadata": {},
   "outputs": [],
   "source": [
    "tokopedia['Variation Name'] = tokopedia['Variation Name'].apply(lambda x: x[::-1])"
   ]
  },
  {
   "cell_type": "markdown",
   "id": "d35c896f",
   "metadata": {},
   "source": [
    "**Fixing total amount column value**"
   ]
  },
  {
   "cell_type": "markdown",
   "id": "86ab604f",
   "metadata": {},
   "source": [
    "The total column value sum up every order of the same person in the same order id, so we will set in only appear once every order id"
   ]
  },
  {
   "cell_type": "markdown",
   "id": "f09cdc7f",
   "metadata": {},
   "source": [
    "**Set total amount to zero if order id is same as previous**"
   ]
  },
  {
   "cell_type": "code",
   "execution_count": 20,
   "id": "91e4b9ac",
   "metadata": {},
   "outputs": [],
   "source": [
    "orderid = []\n",
    "def shipping(id, fee):\n",
    "    if id not in orderid:\n",
    "        orderid.append(id)\n",
    "        fee = fee\n",
    "    else:\n",
    "        fee = 0.0\n",
    "    return fee"
   ]
  },
  {
   "cell_type": "code",
   "execution_count": 21,
   "id": "eb926a8a",
   "metadata": {},
   "outputs": [],
   "source": [
    "tokopedia['Discount Amount (Rp.)'] = tokopedia.apply(lambda x: shipping(x['Order ID'], x['Discount Amount (Rp.)']), axis=1)\n",
    "orderid[:] = []\n",
    "tokopedia['Subsidi Amount (Rp.)'] = tokopedia.apply(lambda x: shipping(x['Order ID'], x['Subsidi Amount (Rp.)']), axis=1)\n",
    "orderid[:] = []\n",
    "tokopedia['Shipping Price + fee (Rp.)'] = tokopedia.apply(lambda x: shipping(x['Order ID'], x['Shipping Price + fee (Rp.)']), axis=1)\n",
    "orderid[:] = []\n",
    "tokopedia['Insurance (Rp.)'] = tokopedia.apply(lambda x: shipping(x['Order ID'], x['Insurance (Rp.)']), axis=1)\n",
    "orderid[:] = []\n",
    "tokopedia['Total Shipping Fee (Rp.)'] = tokopedia.apply(lambda x: shipping(x['Order ID'], x['Total Shipping Fee (Rp.)']), axis=1)\n",
    "orderid[:] = []\n",
    "tokopedia['Total Amount (Rp.)'] = tokopedia.apply(lambda x: shipping(x['Order ID'], x['Total Amount (Rp.)']), axis=1)\n",
    "orderid[:] = []"
   ]
  },
  {
   "cell_type": "code",
   "execution_count": 22,
   "id": "8b77d567",
   "metadata": {},
   "outputs": [],
   "source": [
    "tokopedia = tokopedia.dropna()"
   ]
  },
  {
   "cell_type": "markdown",
   "id": "9ae12b63",
   "metadata": {},
   "source": [
    "**Drop insurance and shipping price to match with Shopee dataframe**"
   ]
  },
  {
   "cell_type": "code",
   "execution_count": 23,
   "id": "0ff6ce6d",
   "metadata": {},
   "outputs": [],
   "source": [
    "tokopedia = tokopedia.drop(['Insurance (Rp.)', 'Shipping Price + fee (Rp.)'], axis=1)"
   ]
  },
  {
   "cell_type": "markdown",
   "id": "26024137",
   "metadata": {},
   "source": [
    "**Tokopedia dataframe is Clean!**"
   ]
  },
  {
   "cell_type": "markdown",
   "id": "d69574ae",
   "metadata": {},
   "source": [
    "# **Shopee dataframe**"
   ]
  },
  {
   "cell_type": "markdown",
   "id": "6117cea1",
   "metadata": {},
   "source": [
    "**Removing column**"
   ]
  },
  {
   "cell_type": "code",
   "execution_count": 24,
   "id": "24c668df",
   "metadata": {},
   "outputs": [
    {
     "data": {
      "text/plain": [
       "Index(['No. Pesanan', 'Status Pesanan', 'Status Pembatalan/ Pengembalian',\n",
       "       'No. Resi', 'Opsi Pengiriman', 'Antar ke counter/ pick-up',\n",
       "       'Pesanan Harus Dikirimkan Sebelum (Menghindari keterlambatan)',\n",
       "       'Waktu Pengiriman Diatur', 'Waktu Pesanan Dibuat',\n",
       "       'Waktu Pembayaran Dilakukan', 'SKU Induk', 'Nama Produk',\n",
       "       'Nomor Referensi SKU', 'Nama Variasi', 'Harga Awal',\n",
       "       'Harga Setelah Diskon', 'Jumlah', 'Total Harga Produk', 'Total Diskon',\n",
       "       'Diskon Dari Penjual', 'Diskon Dari Shopee', 'Berat Produk',\n",
       "       'Jumlah Produk di Pesan', 'Total Berat', 'Voucher Ditanggung Penjual',\n",
       "       'Cashback Koin', 'Voucher Ditanggung Shopee', 'Paket Diskon',\n",
       "       'Paket Diskon (Diskon dari Shopee)',\n",
       "       'Paket Diskon (Diskon dari Penjual)', 'Potongan Koin Shopee',\n",
       "       'Diskon Kartu Kredit', 'Ongkos Kirim Dibayar oleh Pembeli',\n",
       "       'Total Pembayaran', 'Perkiraan Ongkos Kirim', 'Catatan dari Pembeli',\n",
       "       'Catatan', 'city', 'user_id', 'Marketplace'],\n",
       "      dtype='object')"
      ]
     },
     "execution_count": 24,
     "metadata": {},
     "output_type": "execute_result"
    }
   ],
   "source": [
    "shopee.columns"
   ]
  },
  {
   "cell_type": "markdown",
   "id": "76cec4db",
   "metadata": {},
   "source": [
    "**Remove unnecessary column**"
   ]
  },
  {
   "cell_type": "code",
   "execution_count": 25,
   "id": "997657d5",
   "metadata": {},
   "outputs": [],
   "source": [
    "shopee = shopee.drop(['Status Pembatalan/ Pengembalian', 'No. Resi', 'Antar ke counter/ pick-up',\n",
    "                     'Pesanan Harus Dikirimkan Sebelum (Menghindari keterlambatan)',\n",
    "                      'Waktu Pengiriman Diatur', 'Waktu Pesanan Dibuat', 'Paket Diskon',\n",
    "                      'SKU Induk', 'Berat Produk', 'Jumlah Produk di Pesan', 'Total Berat',\n",
    "                      'Cashback Koin', 'Catatan dari Pembeli', 'Catatan', 'Perkiraan Ongkos Kirim',\n",
    "                      'Harga Setelah Diskon', 'Total Harga Produk'\n",
    "                     ], axis=1)"
   ]
  },
  {
   "cell_type": "code",
   "execution_count": 26,
   "id": "64f412a2",
   "metadata": {},
   "outputs": [],
   "source": [
    "shopee.columns = ['Order ID', 'Order Status', 'Courier', 'Payment Date', 'Product Name', \n",
    "                  'Stock Keeping Unit (SKU)', 'Variation Name', 'Price (Rp.)', 'Quantity', \n",
    "                  'Discount Amount (Rp.)', 'Diskon Dari Penjual',\n",
    "                  'Diskon Dari Shopee', 'Voucher Ditanggung Penjual', 'Voucher Ditanggung Shopee', \n",
    "                  'Paket Diskon (Diskon dari Shopee)', 'Paket Diskon (Diskon dari Penjual)', \n",
    "                  'Potongan Koin Shopee', 'Diskon Kartu Kredit', 'Total Shipping Fee (Rp.)',\n",
    "                  'Total Amount (Rp.)', 'city', 'user_id', 'Marketplace']"
   ]
  },
  {
   "cell_type": "markdown",
   "id": "402168f9",
   "metadata": {},
   "source": [
    "**Edit Column**"
   ]
  },
  {
   "cell_type": "code",
   "execution_count": 27,
   "id": "2919f3d6",
   "metadata": {},
   "outputs": [],
   "source": [
    "shopee['Courier'] = shopee['Courier'].map(str).str.replace('Reguler','').str.strip()\n",
    "shopee['Courier'] = shopee['Courier'].apply(lambda x: x.split(' ')[0])\n",
    "shopee['Courier'] = shopee['Courier'].map(str).str.replace('Instant','').str.strip()"
   ]
  },
  {
   "cell_type": "markdown",
   "id": "a6ed0dc2",
   "metadata": {},
   "source": [
    "**Remove Rp sign from dataframe**"
   ]
  },
  {
   "cell_type": "code",
   "execution_count": 28,
   "id": "253ab1ca",
   "metadata": {},
   "outputs": [],
   "source": [
    "for feature in shopee.columns:\n",
    "    shopee[feature] = shopee[feature].map(str).str.replace('Rp ','').str.strip()"
   ]
  },
  {
   "cell_type": "markdown",
   "id": "9640f4a6",
   "metadata": {},
   "source": [
    "**Change column data type**"
   ]
  },
  {
   "cell_type": "code",
   "execution_count": 29,
   "id": "c2cd474e",
   "metadata": {},
   "outputs": [],
   "source": [
    "shopee['Price (Rp.)'] = shopee['Price (Rp.)'].apply(lambda x: float(x))\n",
    "shopee['Discount Amount (Rp.)'] = shopee['Discount Amount (Rp.)'].apply(lambda x: float(x))\n",
    "shopee['Diskon Dari Penjual'] = shopee['Diskon Dari Penjual'].apply(lambda x: float(x))\n",
    "shopee['Diskon Dari Shopee'] = shopee['Diskon Dari Shopee'].apply(lambda x: float(x))\n",
    "shopee['Voucher Ditanggung Penjual'] = shopee['Voucher Ditanggung Penjual'].apply(lambda x: float(x))\n",
    "shopee['Voucher Ditanggung Shopee'] = shopee['Voucher Ditanggung Shopee'].apply(lambda x: float(x))\n",
    "shopee['Paket Diskon (Diskon dari Shopee)'] = shopee['Paket Diskon (Diskon dari Shopee)'].apply(lambda x: float(x))\n",
    "shopee['Paket Diskon (Diskon dari Penjual)'] = shopee['Paket Diskon (Diskon dari Penjual)'].apply(lambda x: float(x))\n",
    "shopee['Potongan Koin Shopee'] = shopee['Potongan Koin Shopee'].apply(lambda x: float(x))\n",
    "shopee['Diskon Kartu Kredit'] = shopee['Diskon Kartu Kredit'].apply(lambda x: float(x))"
   ]
  },
  {
   "cell_type": "markdown",
   "id": "11aba813",
   "metadata": {},
   "source": [
    "**Calculate Discount Amount**"
   ]
  },
  {
   "cell_type": "code",
   "execution_count": 30,
   "id": "b843023f",
   "metadata": {},
   "outputs": [],
   "source": [
    "shopee['Discount Amount (Rp.)'] = shopee['Diskon Dari Penjual'] + shopee['Diskon Dari Shopee'] + shopee['Paket Diskon (Diskon dari Shopee)'] + shopee['Paket Diskon (Diskon dari Penjual)'] + shopee['Potongan Koin Shopee'] + shopee['Diskon Kartu Kredit']"
   ]
  },
  {
   "cell_type": "code",
   "execution_count": 31,
   "id": "6e593cbf",
   "metadata": {},
   "outputs": [],
   "source": [
    "shopee = shopee.drop(['Diskon Dari Penjual', 'Diskon Dari Shopee', 'Paket Diskon (Diskon dari Shopee)',\n",
    "                     'Paket Diskon (Diskon dari Penjual)', 'Potongan Koin Shopee', 'Diskon Kartu Kredit'], axis=1)"
   ]
  },
  {
   "cell_type": "markdown",
   "id": "0975bc94",
   "metadata": {},
   "source": [
    "**Calculate Subsidi Amount**"
   ]
  },
  {
   "cell_type": "code",
   "execution_count": 32,
   "id": "bd547593",
   "metadata": {},
   "outputs": [],
   "source": [
    "shopee['Subsidi Amount (Rp.)'] = shopee['Voucher Ditanggung Penjual'] + shopee['Voucher Ditanggung Penjual']"
   ]
  },
  {
   "cell_type": "code",
   "execution_count": 33,
   "id": "9ea71f08",
   "metadata": {},
   "outputs": [],
   "source": [
    "shopee = shopee.drop(['Voucher Ditanggung Penjual', 'Voucher Ditanggung Shopee'], axis=1)"
   ]
  },
  {
   "cell_type": "markdown",
   "id": "a7712d66",
   "metadata": {},
   "source": [
    "**Fixing total amount column value**"
   ]
  },
  {
   "cell_type": "markdown",
   "id": "b541ab46",
   "metadata": {},
   "source": [
    "The total column value sum up every order of the same person in the same order id, so we will set in only appear once every order id"
   ]
  },
  {
   "cell_type": "markdown",
   "id": "a46e4398",
   "metadata": {},
   "source": [
    "**Set total amount to zero if order id is same as previous**"
   ]
  },
  {
   "cell_type": "code",
   "execution_count": 34,
   "id": "58241a7d",
   "metadata": {},
   "outputs": [],
   "source": [
    "shopee['Discount Amount (Rp.)'] = shopee.apply(lambda x: shipping(x['Order ID'], x['Discount Amount (Rp.)']), axis=1)\n",
    "orderid[:] = []\n",
    "shopee['Subsidi Amount (Rp.)'] = shopee.apply(lambda x: shipping(x['Order ID'], x['Subsidi Amount (Rp.)']), axis=1)\n",
    "orderid[:] = []\n",
    "shopee['Total Shipping Fee (Rp.)'] = shopee.apply(lambda x: shipping(x['Order ID'], x['Total Shipping Fee (Rp.)']), axis=1)\n",
    "orderid[:] = []\n",
    "shopee['Total Amount (Rp.)'] = shopee.apply(lambda x: shipping(x['Order ID'], x['Total Amount (Rp.)']), axis=1)\n",
    "orderid[:] = []"
   ]
  },
  {
   "cell_type": "markdown",
   "id": "82d596c2",
   "metadata": {},
   "source": [
    "**Format Date**"
   ]
  },
  {
   "cell_type": "code",
   "execution_count": 35,
   "id": "a99a91e9",
   "metadata": {},
   "outputs": [],
   "source": [
    "shopee['Payment Hours'] = shopee['Payment Date'].apply(lambda x: x.split(' ')[1])"
   ]
  },
  {
   "cell_type": "code",
   "execution_count": 36,
   "id": "1f585c21",
   "metadata": {},
   "outputs": [],
   "source": [
    "shopee['Payment Date'] = shopee['Payment Date'].apply(lambda x: x.split(\" \")[0])"
   ]
  },
  {
   "cell_type": "markdown",
   "id": "cf3ec9be",
   "metadata": {},
   "source": [
    "**Shopee dataframe is Clean!**"
   ]
  },
  {
   "cell_type": "markdown",
   "id": "a2fc949d",
   "metadata": {},
   "source": [
    "# Concat two dataframe"
   ]
  },
  {
   "cell_type": "code",
   "execution_count": 37,
   "id": "81327546",
   "metadata": {},
   "outputs": [],
   "source": [
    "df = pd.concat([tokopedia, shopee], axis=0)"
   ]
  },
  {
   "cell_type": "code",
   "execution_count": 38,
   "id": "2c5e8392",
   "metadata": {},
   "outputs": [],
   "source": [
    "df = df.reset_index(drop=True)"
   ]
  },
  {
   "cell_type": "markdown",
   "id": "3cfbb9ba",
   "metadata": {},
   "source": [
    "**Edit Dataframe**"
   ]
  },
  {
   "cell_type": "code",
   "execution_count": 39,
   "id": "bac6befc",
   "metadata": {},
   "outputs": [],
   "source": [
    "df['Stock Keeping Unit (SKU)'] = df['Stock Keeping Unit (SKU)'].map(lambda x: x.split('_')[0])"
   ]
  },
  {
   "cell_type": "code",
   "execution_count": 40,
   "id": "b0aa4e6a",
   "metadata": {},
   "outputs": [],
   "source": [
    "df['Size'] = df['Variation Name'].map(lambda x: x.split(',')[1])\n",
    "df['Color'] = df['Variation Name'].map(lambda x: x.split(',')[0])"
   ]
  },
  {
   "cell_type": "code",
   "execution_count": 41,
   "id": "389844d2",
   "metadata": {
    "scrolled": true
   },
   "outputs": [],
   "source": [
    "df = df.drop('Variation Name', axis=1)"
   ]
  },
  {
   "cell_type": "code",
   "execution_count": 42,
   "id": "364de230",
   "metadata": {},
   "outputs": [
    {
     "data": {
      "text/html": [
       "<div>\n",
       "<style scoped>\n",
       "    .dataframe tbody tr th:only-of-type {\n",
       "        vertical-align: middle;\n",
       "    }\n",
       "\n",
       "    .dataframe tbody tr th {\n",
       "        vertical-align: top;\n",
       "    }\n",
       "\n",
       "    .dataframe thead th {\n",
       "        text-align: right;\n",
       "    }\n",
       "</style>\n",
       "<table border=\"1\" class=\"dataframe\">\n",
       "  <thead>\n",
       "    <tr style=\"text-align: right;\">\n",
       "      <th></th>\n",
       "      <th>Order ID</th>\n",
       "      <th>Payment Date</th>\n",
       "      <th>Order Status</th>\n",
       "      <th>Product Name</th>\n",
       "      <th>Quantity</th>\n",
       "      <th>Stock Keeping Unit (SKU)</th>\n",
       "      <th>Price (Rp.)</th>\n",
       "      <th>Discount Amount (Rp.)</th>\n",
       "      <th>Subsidi Amount (Rp.)</th>\n",
       "      <th>Courier</th>\n",
       "      <th>Total Shipping Fee (Rp.)</th>\n",
       "      <th>Total Amount (Rp.)</th>\n",
       "      <th>city</th>\n",
       "      <th>user_id</th>\n",
       "      <th>Marketplace</th>\n",
       "      <th>Payment Hours</th>\n",
       "      <th>Size</th>\n",
       "      <th>Color</th>\n",
       "    </tr>\n",
       "  </thead>\n",
       "  <tbody>\n",
       "    <tr>\n",
       "      <th>0</th>\n",
       "      <td>724560760</td>\n",
       "      <td>2021-03-01</td>\n",
       "      <td>selesai</td>\n",
       "      <td>miniletics Tank Top Olahraga Wanita Cross Limi...</td>\n",
       "      <td>1</td>\n",
       "      <td>CLT</td>\n",
       "      <td>139500.0</td>\n",
       "      <td>0.0</td>\n",
       "      <td>0.0</td>\n",
       "      <td>GrabExpress</td>\n",
       "      <td>12500.0</td>\n",
       "      <td>2593500.0</td>\n",
       "      <td>Kupang</td>\n",
       "      <td>140</td>\n",
       "      <td>Tokopedia</td>\n",
       "      <td>07:53:11</td>\n",
       "      <td>S</td>\n",
       "      <td>Black</td>\n",
       "    </tr>\n",
       "    <tr>\n",
       "      <th>1</th>\n",
       "      <td>724560760</td>\n",
       "      <td>2021-03-01</td>\n",
       "      <td>selesai</td>\n",
       "      <td>miniletics Tank Top Olahraga Wanita ClariTy Ta...</td>\n",
       "      <td>1</td>\n",
       "      <td>CT</td>\n",
       "      <td>139000.0</td>\n",
       "      <td>0.0</td>\n",
       "      <td>0.0</td>\n",
       "      <td>GrabExpress</td>\n",
       "      <td>0.0</td>\n",
       "      <td>0.0</td>\n",
       "      <td>Kupang</td>\n",
       "      <td>140</td>\n",
       "      <td>Tokopedia</td>\n",
       "      <td>07:53:11</td>\n",
       "      <td>S</td>\n",
       "      <td>Light Purple</td>\n",
       "    </tr>\n",
       "    <tr>\n",
       "      <th>2</th>\n",
       "      <td>724560760</td>\n",
       "      <td>2021-03-01</td>\n",
       "      <td>selesai</td>\n",
       "      <td>miniletics Legging Olahraga Wanita Motion Legg...</td>\n",
       "      <td>1</td>\n",
       "      <td>MOL34</td>\n",
       "      <td>234500.0</td>\n",
       "      <td>0.0</td>\n",
       "      <td>0.0</td>\n",
       "      <td>GrabExpress</td>\n",
       "      <td>0.0</td>\n",
       "      <td>0.0</td>\n",
       "      <td>Kupang</td>\n",
       "      <td>140</td>\n",
       "      <td>Tokopedia</td>\n",
       "      <td>07:53:11</td>\n",
       "      <td>S</td>\n",
       "      <td>Maroon</td>\n",
       "    </tr>\n",
       "    <tr>\n",
       "      <th>3</th>\n",
       "      <td>724560760</td>\n",
       "      <td>2021-03-01</td>\n",
       "      <td>selesai</td>\n",
       "      <td>miniletics Baju Olahraga Wanita Tank Top Tie I...</td>\n",
       "      <td>1</td>\n",
       "      <td>TST</td>\n",
       "      <td>144000.0</td>\n",
       "      <td>0.0</td>\n",
       "      <td>0.0</td>\n",
       "      <td>GrabExpress</td>\n",
       "      <td>0.0</td>\n",
       "      <td>0.0</td>\n",
       "      <td>Kupang</td>\n",
       "      <td>140</td>\n",
       "      <td>Tokopedia</td>\n",
       "      <td>07:53:11</td>\n",
       "      <td>S</td>\n",
       "      <td>Soft Pink</td>\n",
       "    </tr>\n",
       "    <tr>\n",
       "      <th>4</th>\n",
       "      <td>724560760</td>\n",
       "      <td>2021-03-01</td>\n",
       "      <td>selesai</td>\n",
       "      <td>miniletics Celana Olahraga Wanita Motion Short...</td>\n",
       "      <td>1</td>\n",
       "      <td>MOLShorts</td>\n",
       "      <td>184500.0</td>\n",
       "      <td>0.0</td>\n",
       "      <td>0.0</td>\n",
       "      <td>GrabExpress</td>\n",
       "      <td>0.0</td>\n",
       "      <td>0.0</td>\n",
       "      <td>Kupang</td>\n",
       "      <td>140</td>\n",
       "      <td>Tokopedia</td>\n",
       "      <td>07:53:11</td>\n",
       "      <td>S</td>\n",
       "      <td>Brick Red</td>\n",
       "    </tr>\n",
       "  </tbody>\n",
       "</table>\n",
       "</div>"
      ],
      "text/plain": [
       "    Order ID Payment Date Order Status  \\\n",
       "0  724560760   2021-03-01      selesai   \n",
       "1  724560760   2021-03-01      selesai   \n",
       "2  724560760   2021-03-01      selesai   \n",
       "3  724560760   2021-03-01      selesai   \n",
       "4  724560760   2021-03-01      selesai   \n",
       "\n",
       "                                        Product Name Quantity  \\\n",
       "0  miniletics Tank Top Olahraga Wanita Cross Limi...        1   \n",
       "1  miniletics Tank Top Olahraga Wanita ClariTy Ta...        1   \n",
       "2  miniletics Legging Olahraga Wanita Motion Legg...        1   \n",
       "3  miniletics Baju Olahraga Wanita Tank Top Tie I...        1   \n",
       "4  miniletics Celana Olahraga Wanita Motion Short...        1   \n",
       "\n",
       "  Stock Keeping Unit (SKU)  Price (Rp.)  Discount Amount (Rp.)  \\\n",
       "0                      CLT     139500.0                    0.0   \n",
       "1                       CT     139000.0                    0.0   \n",
       "2                    MOL34     234500.0                    0.0   \n",
       "3                      TST     144000.0                    0.0   \n",
       "4                MOLShorts     184500.0                    0.0   \n",
       "\n",
       "   Subsidi Amount (Rp.)      Courier Total Shipping Fee (Rp.)  \\\n",
       "0                   0.0  GrabExpress                  12500.0   \n",
       "1                   0.0  GrabExpress                      0.0   \n",
       "2                   0.0  GrabExpress                      0.0   \n",
       "3                   0.0  GrabExpress                      0.0   \n",
       "4                   0.0  GrabExpress                      0.0   \n",
       "\n",
       "  Total Amount (Rp.)    city user_id Marketplace Payment Hours Size  \\\n",
       "0          2593500.0  Kupang     140   Tokopedia      07:53:11    S   \n",
       "1                0.0  Kupang     140   Tokopedia      07:53:11    S   \n",
       "2                0.0  Kupang     140   Tokopedia      07:53:11    S   \n",
       "3                0.0  Kupang     140   Tokopedia      07:53:11    S   \n",
       "4                0.0  Kupang     140   Tokopedia      07:53:11    S   \n",
       "\n",
       "           Color  \n",
       "0          Black  \n",
       "1   Light Purple  \n",
       "2         Maroon  \n",
       "3      Soft Pink  \n",
       "4      Brick Red  "
      ]
     },
     "execution_count": 42,
     "metadata": {},
     "output_type": "execute_result"
    }
   ],
   "source": [
    "df.head()"
   ]
  },
  {
   "cell_type": "code",
   "execution_count": 43,
   "id": "166a38c6",
   "metadata": {},
   "outputs": [
    {
     "data": {
      "text/plain": [
       "Order ID                    0\n",
       "Payment Date                0\n",
       "Order Status                0\n",
       "Product Name                0\n",
       "Quantity                    0\n",
       "Stock Keeping Unit (SKU)    0\n",
       "Price (Rp.)                 0\n",
       "Discount Amount (Rp.)       0\n",
       "Subsidi Amount (Rp.)        0\n",
       "Courier                     0\n",
       "Total Shipping Fee (Rp.)    0\n",
       "Total Amount (Rp.)          0\n",
       "city                        0\n",
       "user_id                     0\n",
       "Marketplace                 0\n",
       "Payment Hours               0\n",
       "Size                        0\n",
       "Color                       0\n",
       "dtype: int64"
      ]
     },
     "execution_count": 43,
     "metadata": {},
     "output_type": "execute_result"
    }
   ],
   "source": [
    "df.isnull().sum()"
   ]
  },
  {
   "cell_type": "markdown",
   "id": "11fc55cd",
   "metadata": {},
   "source": [
    "**Save to excel**"
   ]
  },
  {
   "cell_type": "code",
   "execution_count": 44,
   "id": "33c9cec0",
   "metadata": {},
   "outputs": [],
   "source": [
    "file_name = \"final_dataframe.xlsx\""
   ]
  },
  {
   "cell_type": "code",
   "execution_count": 45,
   "id": "fcd583f0",
   "metadata": {},
   "outputs": [],
   "source": [
    "# df.to_excel(file_name, index=False)"
   ]
  },
  {
   "cell_type": "code",
   "execution_count": null,
   "id": "67ee343d",
   "metadata": {},
   "outputs": [],
   "source": []
  }
 ],
 "metadata": {
  "kernelspec": {
   "display_name": "Python 3 (ipykernel)",
   "language": "python",
   "name": "python3"
  },
  "language_info": {
   "codemirror_mode": {
    "name": "ipython",
    "version": 3
   },
   "file_extension": ".py",
   "mimetype": "text/x-python",
   "name": "python",
   "nbconvert_exporter": "python",
   "pygments_lexer": "ipython3",
   "version": "3.10.4"
  }
 },
 "nbformat": 4,
 "nbformat_minor": 5
}
